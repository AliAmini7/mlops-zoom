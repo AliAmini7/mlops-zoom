{
 "cells": [
  {
   "cell_type": "code",
   "execution_count": 1,
   "metadata": {},
   "outputs": [
    {
     "name": "stdout",
     "output_type": "stream",
     "text": [
      "mlflow, version 2.3.2\n"
     ]
    }
   ],
   "source": [
    "! mlflow --version"
   ]
  },
  {
   "cell_type": "code",
   "execution_count": 1,
   "metadata": {},
   "outputs": [
    {
     "name": "stdout",
     "output_type": "stream",
     "text": [
      "--2023-06-01 16:32:30--  https://d37ci6vzurychx.cloudfront.net/trip-data/green_tripdata_2022-01.parquet\n",
      "Resolving d37ci6vzurychx.cloudfront.net (d37ci6vzurychx.cloudfront.net)... 18.164.173.226, 18.164.173.115, 18.164.173.77, ...\n",
      "Connecting to d37ci6vzurychx.cloudfront.net (d37ci6vzurychx.cloudfront.net)|18.164.173.226|:443... connected.\n",
      "HTTP request sent, awaiting response... 200 OK\n",
      "Length: 1254291 (1.2M) [binary/octet-stream]\n",
      "Saving to: ‘green_tripdata_2022-01.parquet’\n",
      "\n",
      "green_tripdata_2022 100%[===================>]   1.20M  1.25MB/s    in 1.0s    \n",
      "\n",
      "2023-06-01 16:32:32 (1.25 MB/s) - ‘green_tripdata_2022-01.parquet’ saved [1254291/1254291]\n",
      "\n"
     ]
    }
   ],
   "source": [
    "! wget 'https://d37ci6vzurychx.cloudfront.net/trip-data/green_tripdata_2022-01.parquet'\n"
   ]
  },
  {
   "cell_type": "code",
   "execution_count": 2,
   "metadata": {},
   "outputs": [
    {
     "name": "stdout",
     "output_type": "stream",
     "text": [
      "--2023-06-01 16:33:13--  https://d37ci6vzurychx.cloudfront.net/trip-data/green_tripdata_2022-02.parquet\n",
      "Resolving d37ci6vzurychx.cloudfront.net (d37ci6vzurychx.cloudfront.net)... 18.164.173.226, 18.164.173.115, 18.164.173.77, ...\n",
      "Connecting to d37ci6vzurychx.cloudfront.net (d37ci6vzurychx.cloudfront.net)|18.164.173.226|:443... connected.\n",
      "HTTP request sent, awaiting response... 200 OK\n",
      "Length: 1428262 (1.4M) [binary/octet-stream]\n",
      "Saving to: ‘green_tripdata_2022-02.parquet’\n",
      "\n",
      "green_tripdata_2022 100%[===================>]   1.36M  1.40MB/s    in 1.0s    \n",
      "\n",
      "2023-06-01 16:33:15 (1.40 MB/s) - ‘green_tripdata_2022-02.parquet’ saved [1428262/1428262]\n",
      "\n",
      "--2023-06-01 16:33:15--  https://d37ci6vzurychx.cloudfront.net/trip-data/green_tripdata_2022-03.parquet\n",
      "Resolving d37ci6vzurychx.cloudfront.net (d37ci6vzurychx.cloudfront.net)... 18.164.173.226, 18.164.173.115, 18.164.173.77, ...\n",
      "Connecting to d37ci6vzurychx.cloudfront.net (d37ci6vzurychx.cloudfront.net)|18.164.173.226|:443... connected.\n",
      "HTTP request sent, awaiting response... 200 OK\n",
      "Length: 1615562 (1.5M) [binary/octet-stream]\n",
      "Saving to: ‘green_tripdata_2022-03.parquet’\n",
      "\n",
      "green_tripdata_2022 100%[===================>]   1.54M  1.53MB/s    in 1.0s    \n",
      "\n",
      "2023-06-01 16:33:18 (1.53 MB/s) - ‘green_tripdata_2022-03.parquet’ saved [1615562/1615562]\n",
      "\n"
     ]
    }
   ],
   "source": [
    "!wget 'https://d37ci6vzurychx.cloudfront.net/trip-data/green_tripdata_2022-02.parquet'\n",
    "!wget 'https://d37ci6vzurychx.cloudfront.net/trip-data/green_tripdata_2022-03.parquet'"
   ]
  },
  {
   "cell_type": "code",
   "execution_count": 5,
   "metadata": {},
   "outputs": [
    {
     "name": "stdout",
     "output_type": "stream",
     "text": [
      "152K /home/aliamini/mlops_zoom/mlops-zoom/homework2/homework/output/dv.pkl\n"
     ]
    }
   ],
   "source": [
    "#file size\n",
    "\n",
    "!ls -sh /home/aliamini/mlops_zoom/mlops-zoom/homework2/homework/output/dv.pkl"
   ]
  },
  {
   "cell_type": "code",
   "execution_count": null,
   "metadata": {},
   "outputs": [],
   "source": [
    "#max depth = 10"
   ]
  },
  {
   "cell_type": "code",
   "execution_count": null,
   "metadata": {},
   "outputs": [],
   "source": []
  }
 ],
 "metadata": {
  "kernelspec": {
   "display_name": "exp-tracking-env",
   "language": "python",
   "name": "python3"
  },
  "language_info": {
   "codemirror_mode": {
    "name": "ipython",
    "version": 3
   },
   "file_extension": ".py",
   "mimetype": "text/x-python",
   "name": "python",
   "nbconvert_exporter": "python",
   "pygments_lexer": "ipython3",
   "version": "3.9.16"
  },
  "orig_nbformat": 4
 },
 "nbformat": 4,
 "nbformat_minor": 2
}
